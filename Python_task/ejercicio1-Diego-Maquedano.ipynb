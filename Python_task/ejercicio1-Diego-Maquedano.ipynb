{
 "cells": [
  {
   "cell_type": "code",
   "execution_count": 1,
   "metadata": {},
   "outputs": [],
   "source": [
    "\"\"\" Cualquier librería adicional que necesiteis durante el ejercicio, importadlo en esta sección \"\"\"\n",
    "\n",
    "import pandas as pd\n",
    "import numpy as np\n",
    "import matplotlib.pyplot as plt\n",
    "import seaborn as sns\n",
    "import warnings\n",
    "import math\n",
    "\n",
    "sns.set_style('darkgrid')\n",
    "np.set_printoptions(precision=2)\n",
    "# warnings.filterwarnings(\"ignore\")\n",
    "\n",
    "from sklearn.preprocessing import MinMaxScaler, StandardScaler, Normalizer, Binarizer, RobustScaler\n",
    "from sklearn.compose import ColumnTransformer\n",
    "from sklearn.preprocessing import OneHotEncoder, LabelEncoder, PowerTransformer\n",
    "from sklearn.impute import SimpleImputer, KNNImputer\n",
    "\n",
    "from sklearn.feature_selection import SelectKBest, chi2, RFE\n",
    "from sklearn.model_selection import train_test_split\n",
    "from sklearn.pipeline import make_pipeline, Pipeline\n",
    "from sklearn.decomposition import PCA\n",
    "\n",
    "from sklearn.linear_model import LogisticRegression\n",
    "from sklearn.tree import DecisionTreeClassifier\n",
    "from sklearn.neighbors import KNeighborsClassifier\n",
    "from sklearn.discriminant_analysis import LinearDiscriminantAnalysis\n",
    "from sklearn.naive_bayes import GaussianNB\n",
    "from sklearn.ensemble import RandomForestClassifier, ExtraTreesClassifier\n",
    "from sklearn.svm import SVC\n",
    "\n",
    "from sklearn.metrics import accuracy_score, confusion_matrix, classification_report, f1_score\n",
    "\n",
    "from sklearn.model_selection import KFold, ShuffleSplit, LeaveOneOut, StratifiedKFold\n",
    "from sklearn.model_selection import cross_val_score, cross_val_predict\n",
    "from sklearn.model_selection import GridSearchCV, RandomizedSearchCV"
   ]
  },
  {
   "cell_type": "markdown",
   "metadata": {},
   "source": [
    "# Ejercicio 1\n",
    "\n",
    "Este ejercicio pretende poner en práctica la habilidad para crear modelos en __sklearn__ mediante el uso de transformadores _ad hoc_.\n",
    "\n",
    "El estudiante tendrá que repasar los comandos realizados en clase y lidiar con posibles errores durante el desarrollo. \n",
    "\n",
    "Para facilitar y agilizar el desarrollo, el estudiante tendrá que rellenar los huecos marcados como '_# codigo-alumno_'. No obstante, si además el estudiante necesita ejecutar código adicional, siempre podrá utilizar cualquier celda adicional. \n",
    "\n",
    "El estudiante tendrá siempre que introducir una semilla (seed) que generará acorde a su fecha de nacimiento (sin ser intrusivos en edad).\n",
    "\n",
    "Finalmente, la entrega será un fichero .ipynb cambiando nombre y apellido al fichero."
   ]
  },
  {
   "cell_type": "code",
   "execution_count": 2,
   "metadata": {},
   "outputs": [],
   "source": [
    "\"\"\" El estudiante tendrá que utilizar la semilla proporcionada para todos los procesos aleatorios \"\"\"\n",
    "seed = 22 + 13 * 2"
   ]
  },
  {
   "cell_type": "markdown",
   "metadata": {},
   "source": [
    "### Data cleansing"
   ]
  },
  {
   "cell_type": "code",
   "execution_count": 3,
   "metadata": {},
   "outputs": [],
   "source": [
    "\"\"\" Leed el fichero con pandas y almacenarlo en una variable llamada data \"\"\"\n",
    "\n",
    "data = pd.read_csv('./data/titanic-2.csv')"
   ]
  },
  {
   "cell_type": "code",
   "execution_count": 4,
   "metadata": {},
   "outputs": [],
   "source": [
    "\"\"\" Cread una variable adicional, llamada hasCabin, \n",
    "    que tome valor 0 si la columna Cabin es nula, y 1 si no lo es \"\"\"\n",
    "\n",
    "data['hasCabin'] = np.where(data['Cabin'].isnull(), 0, 1)"
   ]
  },
  {
   "cell_type": "code",
   "execution_count": 5,
   "metadata": {},
   "outputs": [],
   "source": [
    "\"\"\"Eliminad las columnas PassengerId, Cabin, Ticket y Name de data (comando drop) \"\"\"\n",
    "\n",
    "data = data.drop(columns=['PassengerId', 'Cabin', 'Ticket','Name'])"
   ]
  },
  {
   "cell_type": "code",
   "execution_count": 6,
   "metadata": {},
   "outputs": [],
   "source": [
    "\"\"\" Modificad las variables Title, Parch y SibSp, donde Title tome los valores Mr, Mrs, Miss y Otros. \n",
    "    Y Parch y SibSp toman los valores 0, 1 o 2 (donde 2 incluye 2 o más) \"\"\"\n",
    "\n",
    "data['SibSp'] = np.where(data['Parch']>=2, 2, data['Parch'])\n",
    "data['Parch'] = np.where(data['SibSp']>=2, 2, data['SibSp'])\n",
    "data['Title'] = np.where((data['Title']!='Mr')&(data['Title']!='Mrs')&(data['Title']!='Miss'), 'Otros', data['Title'])"
   ]
  },
  {
   "cell_type": "code",
   "execution_count": 7,
   "metadata": {},
   "outputs": [
    {
     "data": {
      "text/plain": [
       "Survived      0\n",
       "Pclass        0\n",
       "Sex           0\n",
       "Age         177\n",
       "SibSp         0\n",
       "Parch         0\n",
       "Fare          0\n",
       "Embarked      0\n",
       "Title         0\n",
       "hasCabin      0\n",
       "dtype: int64"
      ]
     },
     "execution_count": 7,
     "metadata": {},
     "output_type": "execute_result"
    }
   ],
   "source": [
    "\"\"\" Eliminad los dos registros cuyo valor Embarked es nulo \n",
    "    (se recomienda comprobar que se hayan eliminado correctamente) \"\"\"\n",
    "\n",
    "data.drop(data[data['Embarked'].isnull()].index, inplace = True)\n",
    "data.isnull().sum()"
   ]
  },
  {
   "cell_type": "code",
   "execution_count": 8,
   "metadata": {},
   "outputs": [
    {
     "data": {
      "text/plain": [
       "0"
      ]
     },
     "execution_count": 8,
     "metadata": {},
     "output_type": "execute_result"
    }
   ],
   "source": [
    "\"\"\" Eliminad registros duplicados en caso de que los haya \"\"\"\n",
    "data=data.drop_duplicates()\n",
    "data.duplicated().sum()"
   ]
  },
  {
   "cell_type": "markdown",
   "metadata": {},
   "source": [
    "### Feature engineering"
   ]
  },
  {
   "cell_type": "code",
   "execution_count": 9,
   "metadata": {},
   "outputs": [
    {
     "data": {
      "text/plain": [
       "array([[ 3. , 22. ,  0. , ...,  1. ,  0. ,  0. ],\n",
       "       [ 1. , 38. ,  0. , ...,  0. ,  1. ,  0. ],\n",
       "       [ 3. , 26. ,  0. , ...,  0. ,  0. ,  0. ],\n",
       "       ...,\n",
       "       [ 3. , 26.8,  2. , ...,  0. ,  0. ,  0. ],\n",
       "       [ 1. , 26. ,  0. , ...,  1. ,  0. ,  0. ],\n",
       "       [ 3. , 32. ,  0. , ...,  1. ,  0. ,  0. ]])"
      ]
     },
     "execution_count": 9,
     "metadata": {},
     "output_type": "execute_result"
    }
   ],
   "source": [
    "\"\"\"\n",
    "Realizar un ColumnTransformer que lleve:\n",
    "- Un KNN Imputer para 'Pclass', 'Age', 'SibSp', 'Parch', 'Fare'\n",
    "- Un PowerTransformer yeo-johnson para 'Fare'\n",
    "- Un OneHotEncoder para las variables 'Sex', 'Parch', 'Embarked' y 'Title'\n",
    "\"\"\"\n",
    "col_transformer = ColumnTransformer([\n",
    "        (\"imputer\", KNNImputer(n_neighbors=5), ['Pclass', 'Age', 'SibSp', 'Parch', 'Fare']),\n",
    "        (\"transformer\", PowerTransformer(method='yeo-johnson'), ['Fare']),\n",
    "        (\"encoder1\", OneHotEncoder(), ['Sex', 'Parch', 'Embarked', 'Title'])\n",
    "    ]\n",
    ")\n",
    "\n",
    "ctransformed = col_transformer.fit_transform(data)\n",
    "ctransformed"
   ]
  },
  {
   "cell_type": "markdown",
   "metadata": {},
   "source": [
    "### Model Selection"
   ]
  },
  {
   "cell_type": "code",
   "execution_count": 10,
   "metadata": {},
   "outputs": [],
   "source": [
    "\"\"\" Realizaremos un análisis de los siguientes modelos con las siguentes features \"\"\"\n",
    "\n",
    "models = []\n",
    "models.append(('LR', LogisticRegression(random_state=seed)))\n",
    "models.append(('LDA', LinearDiscriminantAnalysis()))\n",
    "models.append(('KNN', KNeighborsClassifier()))\n",
    "models.append(('DTC', DecisionTreeClassifier(random_state=seed)))\n",
    "models.append(('NB', GaussianNB()))\n",
    "models.append(('RFC', RandomForestClassifier(random_state=seed)))\n",
    "models.append(('SVM', SVC()))\n",
    "\n",
    "X = data[['Pclass', 'Sex', 'Age', 'SibSp', 'Parch', 'Fare', 'Embarked', 'Title', 'hasCabin']]\n",
    "y = data['Survived']"
   ]
  },
  {
   "cell_type": "code",
   "execution_count": 11,
   "metadata": {},
   "outputs": [],
   "source": [
    "\"\"\" Para plotear los resultados utilizaremos la siguiente función \"\"\"\n",
    "\n",
    "def boxplots_algorithms(results, names):\n",
    "    \n",
    "    plt.figure(figsize=(8,8))\n",
    "    plt.boxplot(results)\n",
    "    plt.xticks(range(1,len(names)+1), names)\n",
    "    plt.show()"
   ]
  },
  {
   "cell_type": "code",
   "execution_count": 12,
   "metadata": {},
   "outputs": [
    {
     "name": "stdout",
     "output_type": "stream",
     "text": [
      "LR: 0.796657 (0.036524)\n",
      "LDA: 0.790263 (0.042970)\n",
      "KNN: 0.767267 (0.046063)\n",
      "DTC: 0.739176 (0.045965)\n",
      "NB: 0.754398 (0.039216)\n",
      "RFC: 0.757043 (0.029092)\n",
      "SVM: 0.799156 (0.047164)\n"
     ]
    },
    {
     "data": {
      "image/png": "[encoded data removed]",
      "text/plain": [
       "<Figure size 576x576 with 1 Axes>"
      ]
     },
     "metadata": {},
     "output_type": "display_data"
    }
   ],
   "source": [
    "\"\"\" Realizad un bucle que calcule, para cada modelo,\n",
    "    - Un pipeline que realice:\n",
    "        1. El ColumnTransformer diseñado anteriormente\n",
    "        2. Un RobustScaler a continuación y, finalmente, \n",
    "        3. Evalue cada modelo \n",
    "    - Una validación cruzada:\n",
    "        1. Tipo KFolds, con 10 splits \n",
    "        2. Aleatorio con semilla y,\n",
    "        3. scoring='accuracy'\n",
    "     Usaremos la función boxplots_algorithms para plotear los resultados \"\"\"\n",
    "\n",
    "results = []\n",
    "names = []\n",
    "\n",
    "for name, model in models:\n",
    "    \n",
    "    scaler = RobustScaler()\n",
    "    pipeline = make_pipeline(col_transformer, scaler, model)\n",
    "    \n",
    "    cv_technique = KFold(n_splits=10, shuffle=True, random_state=seed) \n",
    "    cv_results = cross_val_score(pipeline, X, y, cv=cv_technique, scoring='accuracy')\n",
    "    \n",
    "    msg = \"%s: %f (%f)\" % (name, cv_results.mean(), cv_results.std())\n",
    "    print(msg)\n",
    "    \n",
    "    results.append(cv_results)\n",
    "    names.append(name)\n",
    "    \n",
    "boxplots_algorithms(results, names)"
   ]
  },
  {
   "cell_type": "code",
   "execution_count": 13,
   "metadata": {},
   "outputs": [
    {
     "name": "stdout",
     "output_type": "stream",
     "text": [
      "LR: 0.791577 (0.038796)\n",
      "LDA: 0.786482 (0.041145)\n",
      "KNN: 0.764654 (0.044857)\n",
      "DTC: 0.707141 (0.048561)\n",
      "NB: 0.753165 (0.036471)\n",
      "RFC: 0.758358 (0.052397)\n",
      "SVM: 0.795391 (0.050289)\n"
     ]
    },
    {
     "data": {
      "image/png": "[encoded data removed]",
      "text/plain": [
       "<Figure size 576x576 with 1 Axes>"
      ]
     },
     "metadata": {},
     "output_type": "display_data"
    }
   ],
   "source": [
    "\"\"\" Realizad el mismo estudio de selección de variables, pero con StratifiedKFolds \"\"\"\n",
    "\n",
    "results = []\n",
    "names = []\n",
    "\n",
    "for name, model in models:\n",
    "    \n",
    "    scaler = RobustScaler()\n",
    "    pipeline = make_pipeline(col_transformer, scaler, model)\n",
    "    \n",
    "    cv_technique = StratifiedKFold(n_splits=10, shuffle=True, random_state=seed) \n",
    "    cv_results = cross_val_score(pipeline, X, y, cv=cv_technique, scoring='accuracy')\n",
    "    \n",
    "    msg = \"%s: %f (%f)\" % (name, cv_results.mean(), cv_results.std())\n",
    "    print(msg)\n",
    "    \n",
    "    results.append(cv_results)\n",
    "    names.append(name)\n",
    "    \n",
    "boxplots_algorithms(results, names)"
   ]
  },
  {
   "cell_type": "markdown",
   "metadata": {},
   "source": [
    "### Model Tuning"
   ]
  },
  {
   "cell_type": "code",
   "execution_count": 14,
   "metadata": {},
   "outputs": [
    {
     "name": "stdout",
     "output_type": "stream",
     "text": [
      "0.7980038948393379\n",
      "Pipeline(steps=[('transformacion_columna',\n",
      "                 ColumnTransformer(transformers=[('imputer', KNNImputer(),\n",
      "                                                  ['Pclass', 'Age', 'SibSp',\n",
      "                                                   'Parch', 'Fare']),\n",
      "                                                 ('transformer',\n",
      "                                                  PowerTransformer(),\n",
      "                                                  ['Fare']),\n",
      "                                                 ('encoder1', OneHotEncoder(),\n",
      "                                                  ['Sex', 'Parch', 'Embarked',\n",
      "                                                   'Title'])])),\n",
      "                ('robust_scaler', RobustScaler()),\n",
      "                ('model',\n",
      "                 RandomForestClassifier(max_depth=8, n_estimators=20,\n",
      "                                        random_state=48))])\n"
     ]
    }
   ],
   "source": [
    "\"\"\" Realizad un Tuneado del RandomForestClassifier para estimar cuál es la mejor configuración paramétrica\n",
    "    Y comprobarlo con GridSearchCV \"\"\"\n",
    "\n",
    "param_grid = {\n",
    "    'model__n_estimators': [10, 20],\n",
    "    'model__max_features': ['auto', 'sqrt', 'log2'],\n",
    "    'model__max_depth' : [4,5,6,7,8],\n",
    "    'model__criterion' :['gini', 'entropy']\n",
    "}\n",
    "\n",
    "model = RandomForestClassifier(random_state=seed)\n",
    "    \n",
    "pipeline = Pipeline([('transformacion_columna', col_transformer),\n",
    "                    ('robust_scaler', scaler),\n",
    "                    ('model', model)])\n",
    "    \n",
    "cv_technique = StratifiedKFold(n_splits=10, shuffle=True, random_state=seed)\n",
    "    \n",
    "grid_model = GridSearchCV(pipeline, param_grid=param_grid, cv=cv_technique)\n",
    "    \n",
    "grid_model.fit(X, y)\n",
    "    \n",
    "print(grid_model.best_score_)\n",
    "print(grid_model.best_estimator_)"
   ]
  }
 ],
 "metadata": {
  "kernelspec": {
   "display_name": "Python 3 (ipykernel)",
   "language": "python",
   "name": "python3"
  },
  "language_info": {
   "codemirror_mode": {
    "name": "ipython",
    "version": 3
   },
   "file_extension": ".py",
   "mimetype": "text/x-python",
   "name": "python",
   "nbconvert_exporter": "python",
   "pygments_lexer": "ipython3",
   "version": "3.9.2"
  }
 },
 "nbformat": 4,
 "nbformat_minor": 4
}
